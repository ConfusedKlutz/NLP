{
  "nbformat": 4,
  "nbformat_minor": 0,
  "metadata": {
    "colab": {
      "provenance": []
    },
    "kernelspec": {
      "name": "python3",
      "display_name": "Python 3"
    },
    "language_info": {
      "name": "python"
    }
  },
  "cells": [
    {
      "cell_type": "code",
      "execution_count": null,
      "metadata": {
        "id": "Lq4QC4hLhef4"
      },
      "outputs": [],
      "source": [
        "import tensorflow as tf\n",
        "from tensorflow import keras\n",
        "from tensorflow.keras import Sequential,layers,regularizers\n",
        "from tensorflow.keras.layers import Dense,Flatten,Conv2D,MaxPool2D\n",
        "from tensorflow.keras.datasets import cifar10"
      ]
    },
    {
      "cell_type": "code",
      "source": [
        "(x_train,y_train),(x_test,y_test)=cifar10.load_data()"
      ],
      "metadata": {
        "id": "XJuTKKpuinkP"
      },
      "execution_count": null,
      "outputs": []
    },
    {
      "cell_type": "code",
      "source": [
        "x_train=x_train.astype('float32')/255.0\n",
        "x_test=x_test.astype('float32')/255.0\n",
        "\n"
      ],
      "metadata": {
        "id": "WOrDTpeOjM4w"
      },
      "execution_count": null,
      "outputs": []
    },
    {
      "cell_type": "code",
      "source": [
        "from sklearn.model_selection import train_test_split\n",
        "x_train,x_val,y_train,y_val=train_test_split(x_train,y_train,test_size=0.2,random_state=42)"
      ],
      "metadata": {
        "id": "auNVGifakYSP"
      },
      "execution_count": null,
      "outputs": []
    },
    {
      "cell_type": "code",
      "source": [
        "model=Sequential(\n",
        "    [\n",
        "        keras.Input(shape=(32,32,3)),\n",
        "        layers.Conv2D(32,3,activation='relu'),\n",
        "        layers.MaxPool2D(2),\n",
        "        layers.Conv2D(64,3,activation='relu'),\n",
        "        layers.MaxPool2D(2),\n",
        "        layers.Conv2D(128,3,activation='relu'),\n",
        "        layers.MaxPool2D(2),\n",
        "        layers.Flatten(),\n",
        "        layers.Dense(64,activation='relu'),\n",
        "        layers.Dense(10)\n",
        "    ]\n",
        ")"
      ],
      "metadata": {
        "id": "6iTj9MSFjdN9"
      },
      "execution_count": null,
      "outputs": []
    },
    {
      "cell_type": "code",
      "source": [
        "model.compile(loss=keras.losses.SparseCategoricalCrossentropy(from_logits=True),\n",
        "              optimizer=keras.optimizers.Adam(learning_rate=3e-4),\n",
        "              metrics=['accuracy']\n",
        ")"
      ],
      "metadata": {
        "id": "kRPj98LSkB19"
      },
      "execution_count": null,
      "outputs": []
    },
    {
      "cell_type": "code",
      "source": [
        "model.summary()"
      ],
      "metadata": {
        "colab": {
          "base_uri": "https://localhost:8080/",
          "height": 417
        },
        "id": "jPGqB1POkLz6",
        "outputId": "e4b9b0c9-3578-4d50-8f64-7aa54fe532ad"
      },
      "execution_count": null,
      "outputs": [
        {
          "output_type": "display_data",
          "data": {
            "text/plain": [
              "\u001b[1mModel: \"sequential_2\"\u001b[0m\n"
            ],
            "text/html": [
              "<pre style=\"white-space:pre;overflow-x:auto;line-height:normal;font-family:Menlo,'DejaVu Sans Mono',consolas,'Courier New',monospace\"><span style=\"font-weight: bold\">Model: \"sequential_2\"</span>\n",
              "</pre>\n"
            ]
          },
          "metadata": {}
        },
        {
          "output_type": "display_data",
          "data": {
            "text/plain": [
              "┏━━━━━━━━━━━━━━━━━━━━━━━━━━━━━━━━━━━━━━┳━━━━━━━━━━━━━━━━━━━━━━━━━━━━━┳━━━━━━━━━━━━━━━━━┓\n",
              "┃\u001b[1m \u001b[0m\u001b[1mLayer (type)                        \u001b[0m\u001b[1m \u001b[0m┃\u001b[1m \u001b[0m\u001b[1mOutput Shape               \u001b[0m\u001b[1m \u001b[0m┃\u001b[1m \u001b[0m\u001b[1m        Param #\u001b[0m\u001b[1m \u001b[0m┃\n",
              "┡━━━━━━━━━━━━━━━━━━━━━━━━━━━━━━━━━━━━━━╇━━━━━━━━━━━━━━━━━━━━━━━━━━━━━╇━━━━━━━━━━━━━━━━━┩\n",
              "│ conv2d_21 (\u001b[38;5;33mConv2D\u001b[0m)                   │ (\u001b[38;5;45mNone\u001b[0m, \u001b[38;5;34m30\u001b[0m, \u001b[38;5;34m30\u001b[0m, \u001b[38;5;34m32\u001b[0m)          │             \u001b[38;5;34m896\u001b[0m │\n",
              "├──────────────────────────────────────┼─────────────────────────────┼─────────────────┤\n",
              "│ max_pooling2d_21 (\u001b[38;5;33mMaxPooling2D\u001b[0m)      │ (\u001b[38;5;45mNone\u001b[0m, \u001b[38;5;34m15\u001b[0m, \u001b[38;5;34m15\u001b[0m, \u001b[38;5;34m32\u001b[0m)          │               \u001b[38;5;34m0\u001b[0m │\n",
              "├──────────────────────────────────────┼─────────────────────────────┼─────────────────┤\n",
              "│ conv2d_22 (\u001b[38;5;33mConv2D\u001b[0m)                   │ (\u001b[38;5;45mNone\u001b[0m, \u001b[38;5;34m13\u001b[0m, \u001b[38;5;34m13\u001b[0m, \u001b[38;5;34m64\u001b[0m)          │          \u001b[38;5;34m18,496\u001b[0m │\n",
              "├──────────────────────────────────────┼─────────────────────────────┼─────────────────┤\n",
              "│ max_pooling2d_22 (\u001b[38;5;33mMaxPooling2D\u001b[0m)      │ (\u001b[38;5;45mNone\u001b[0m, \u001b[38;5;34m6\u001b[0m, \u001b[38;5;34m6\u001b[0m, \u001b[38;5;34m64\u001b[0m)            │               \u001b[38;5;34m0\u001b[0m │\n",
              "├──────────────────────────────────────┼─────────────────────────────┼─────────────────┤\n",
              "│ conv2d_23 (\u001b[38;5;33mConv2D\u001b[0m)                   │ (\u001b[38;5;45mNone\u001b[0m, \u001b[38;5;34m4\u001b[0m, \u001b[38;5;34m4\u001b[0m, \u001b[38;5;34m128\u001b[0m)           │          \u001b[38;5;34m73,856\u001b[0m │\n",
              "├──────────────────────────────────────┼─────────────────────────────┼─────────────────┤\n",
              "│ max_pooling2d_23 (\u001b[38;5;33mMaxPooling2D\u001b[0m)      │ (\u001b[38;5;45mNone\u001b[0m, \u001b[38;5;34m2\u001b[0m, \u001b[38;5;34m2\u001b[0m, \u001b[38;5;34m128\u001b[0m)           │               \u001b[38;5;34m0\u001b[0m │\n",
              "├──────────────────────────────────────┼─────────────────────────────┼─────────────────┤\n",
              "│ flatten_7 (\u001b[38;5;33mFlatten\u001b[0m)                  │ (\u001b[38;5;45mNone\u001b[0m, \u001b[38;5;34m512\u001b[0m)                 │               \u001b[38;5;34m0\u001b[0m │\n",
              "├──────────────────────────────────────┼─────────────────────────────┼─────────────────┤\n",
              "│ dense_14 (\u001b[38;5;33mDense\u001b[0m)                     │ (\u001b[38;5;45mNone\u001b[0m, \u001b[38;5;34m64\u001b[0m)                  │          \u001b[38;5;34m32,832\u001b[0m │\n",
              "├──────────────────────────────────────┼─────────────────────────────┼─────────────────┤\n",
              "│ dense_15 (\u001b[38;5;33mDense\u001b[0m)                     │ (\u001b[38;5;45mNone\u001b[0m, \u001b[38;5;34m10\u001b[0m)                  │             \u001b[38;5;34m650\u001b[0m │\n",
              "└──────────────────────────────────────┴─────────────────────────────┴─────────────────┘\n"
            ],
            "text/html": [
              "<pre style=\"white-space:pre;overflow-x:auto;line-height:normal;font-family:Menlo,'DejaVu Sans Mono',consolas,'Courier New',monospace\">┏━━━━━━━━━━━━━━━━━━━━━━━━━━━━━━━━━━━━━━┳━━━━━━━━━━━━━━━━━━━━━━━━━━━━━┳━━━━━━━━━━━━━━━━━┓\n",
              "┃<span style=\"font-weight: bold\"> Layer (type)                         </span>┃<span style=\"font-weight: bold\"> Output Shape                </span>┃<span style=\"font-weight: bold\">         Param # </span>┃\n",
              "┡━━━━━━━━━━━━━━━━━━━━━━━━━━━━━━━━━━━━━━╇━━━━━━━━━━━━━━━━━━━━━━━━━━━━━╇━━━━━━━━━━━━━━━━━┩\n",
              "│ conv2d_21 (<span style=\"color: #0087ff; text-decoration-color: #0087ff\">Conv2D</span>)                   │ (<span style=\"color: #00d7ff; text-decoration-color: #00d7ff\">None</span>, <span style=\"color: #00af00; text-decoration-color: #00af00\">30</span>, <span style=\"color: #00af00; text-decoration-color: #00af00\">30</span>, <span style=\"color: #00af00; text-decoration-color: #00af00\">32</span>)          │             <span style=\"color: #00af00; text-decoration-color: #00af00\">896</span> │\n",
              "├──────────────────────────────────────┼─────────────────────────────┼─────────────────┤\n",
              "│ max_pooling2d_21 (<span style=\"color: #0087ff; text-decoration-color: #0087ff\">MaxPooling2D</span>)      │ (<span style=\"color: #00d7ff; text-decoration-color: #00d7ff\">None</span>, <span style=\"color: #00af00; text-decoration-color: #00af00\">15</span>, <span style=\"color: #00af00; text-decoration-color: #00af00\">15</span>, <span style=\"color: #00af00; text-decoration-color: #00af00\">32</span>)          │               <span style=\"color: #00af00; text-decoration-color: #00af00\">0</span> │\n",
              "├──────────────────────────────────────┼─────────────────────────────┼─────────────────┤\n",
              "│ conv2d_22 (<span style=\"color: #0087ff; text-decoration-color: #0087ff\">Conv2D</span>)                   │ (<span style=\"color: #00d7ff; text-decoration-color: #00d7ff\">None</span>, <span style=\"color: #00af00; text-decoration-color: #00af00\">13</span>, <span style=\"color: #00af00; text-decoration-color: #00af00\">13</span>, <span style=\"color: #00af00; text-decoration-color: #00af00\">64</span>)          │          <span style=\"color: #00af00; text-decoration-color: #00af00\">18,496</span> │\n",
              "├──────────────────────────────────────┼─────────────────────────────┼─────────────────┤\n",
              "│ max_pooling2d_22 (<span style=\"color: #0087ff; text-decoration-color: #0087ff\">MaxPooling2D</span>)      │ (<span style=\"color: #00d7ff; text-decoration-color: #00d7ff\">None</span>, <span style=\"color: #00af00; text-decoration-color: #00af00\">6</span>, <span style=\"color: #00af00; text-decoration-color: #00af00\">6</span>, <span style=\"color: #00af00; text-decoration-color: #00af00\">64</span>)            │               <span style=\"color: #00af00; text-decoration-color: #00af00\">0</span> │\n",
              "├──────────────────────────────────────┼─────────────────────────────┼─────────────────┤\n",
              "│ conv2d_23 (<span style=\"color: #0087ff; text-decoration-color: #0087ff\">Conv2D</span>)                   │ (<span style=\"color: #00d7ff; text-decoration-color: #00d7ff\">None</span>, <span style=\"color: #00af00; text-decoration-color: #00af00\">4</span>, <span style=\"color: #00af00; text-decoration-color: #00af00\">4</span>, <span style=\"color: #00af00; text-decoration-color: #00af00\">128</span>)           │          <span style=\"color: #00af00; text-decoration-color: #00af00\">73,856</span> │\n",
              "├──────────────────────────────────────┼─────────────────────────────┼─────────────────┤\n",
              "│ max_pooling2d_23 (<span style=\"color: #0087ff; text-decoration-color: #0087ff\">MaxPooling2D</span>)      │ (<span style=\"color: #00d7ff; text-decoration-color: #00d7ff\">None</span>, <span style=\"color: #00af00; text-decoration-color: #00af00\">2</span>, <span style=\"color: #00af00; text-decoration-color: #00af00\">2</span>, <span style=\"color: #00af00; text-decoration-color: #00af00\">128</span>)           │               <span style=\"color: #00af00; text-decoration-color: #00af00\">0</span> │\n",
              "├──────────────────────────────────────┼─────────────────────────────┼─────────────────┤\n",
              "│ flatten_7 (<span style=\"color: #0087ff; text-decoration-color: #0087ff\">Flatten</span>)                  │ (<span style=\"color: #00d7ff; text-decoration-color: #00d7ff\">None</span>, <span style=\"color: #00af00; text-decoration-color: #00af00\">512</span>)                 │               <span style=\"color: #00af00; text-decoration-color: #00af00\">0</span> │\n",
              "├──────────────────────────────────────┼─────────────────────────────┼─────────────────┤\n",
              "│ dense_14 (<span style=\"color: #0087ff; text-decoration-color: #0087ff\">Dense</span>)                     │ (<span style=\"color: #00d7ff; text-decoration-color: #00d7ff\">None</span>, <span style=\"color: #00af00; text-decoration-color: #00af00\">64</span>)                  │          <span style=\"color: #00af00; text-decoration-color: #00af00\">32,832</span> │\n",
              "├──────────────────────────────────────┼─────────────────────────────┼─────────────────┤\n",
              "│ dense_15 (<span style=\"color: #0087ff; text-decoration-color: #0087ff\">Dense</span>)                     │ (<span style=\"color: #00d7ff; text-decoration-color: #00d7ff\">None</span>, <span style=\"color: #00af00; text-decoration-color: #00af00\">10</span>)                  │             <span style=\"color: #00af00; text-decoration-color: #00af00\">650</span> │\n",
              "└──────────────────────────────────────┴─────────────────────────────┴─────────────────┘\n",
              "</pre>\n"
            ]
          },
          "metadata": {}
        },
        {
          "output_type": "display_data",
          "data": {
            "text/plain": [
              "\u001b[1m Total params: \u001b[0m\u001b[38;5;34m126,730\u001b[0m (495.04 KB)\n"
            ],
            "text/html": [
              "<pre style=\"white-space:pre;overflow-x:auto;line-height:normal;font-family:Menlo,'DejaVu Sans Mono',consolas,'Courier New',monospace\"><span style=\"font-weight: bold\"> Total params: </span><span style=\"color: #00af00; text-decoration-color: #00af00\">126,730</span> (495.04 KB)\n",
              "</pre>\n"
            ]
          },
          "metadata": {}
        },
        {
          "output_type": "display_data",
          "data": {
            "text/plain": [
              "\u001b[1m Trainable params: \u001b[0m\u001b[38;5;34m126,730\u001b[0m (495.04 KB)\n"
            ],
            "text/html": [
              "<pre style=\"white-space:pre;overflow-x:auto;line-height:normal;font-family:Menlo,'DejaVu Sans Mono',consolas,'Courier New',monospace\"><span style=\"font-weight: bold\"> Trainable params: </span><span style=\"color: #00af00; text-decoration-color: #00af00\">126,730</span> (495.04 KB)\n",
              "</pre>\n"
            ]
          },
          "metadata": {}
        },
        {
          "output_type": "display_data",
          "data": {
            "text/plain": [
              "\u001b[1m Non-trainable params: \u001b[0m\u001b[38;5;34m0\u001b[0m (0.00 B)\n"
            ],
            "text/html": [
              "<pre style=\"white-space:pre;overflow-x:auto;line-height:normal;font-family:Menlo,'DejaVu Sans Mono',consolas,'Courier New',monospace\"><span style=\"font-weight: bold\"> Non-trainable params: </span><span style=\"color: #00af00; text-decoration-color: #00af00\">0</span> (0.00 B)\n",
              "</pre>\n"
            ]
          },
          "metadata": {}
        }
      ]
    },
    {
      "cell_type": "code",
      "source": [
        "model.fit(x_train,y_train,batch_size=64,epochs=10,validation_data=(x_val,y_val),verbose=2)"
      ],
      "metadata": {
        "colab": {
          "base_uri": "https://localhost:8080/"
        },
        "id": "EOc-yB6mke2z",
        "outputId": "5fdc4ae5-e020-47aa-9974-524aab562823"
      },
      "execution_count": null,
      "outputs": [
        {
          "output_type": "stream",
          "name": "stdout",
          "text": [
            "Epoch 1/10\n",
            "625/625 - 62s - 99ms/step - accuracy: 0.3480 - loss: 1.7955 - val_accuracy: 0.4453 - val_loss: 1.5322\n",
            "Epoch 2/10\n",
            "625/625 - 80s - 128ms/step - accuracy: 0.4832 - loss: 1.4354 - val_accuracy: 0.4980 - val_loss: 1.4130\n",
            "Epoch 3/10\n",
            "625/625 - 82s - 132ms/step - accuracy: 0.5354 - loss: 1.3107 - val_accuracy: 0.5467 - val_loss: 1.2637\n",
            "Epoch 4/10\n",
            "625/625 - 56s - 90ms/step - accuracy: 0.5713 - loss: 1.2176 - val_accuracy: 0.5722 - val_loss: 1.2077\n",
            "Epoch 5/10\n",
            "625/625 - 82s - 131ms/step - accuracy: 0.5979 - loss: 1.1490 - val_accuracy: 0.5847 - val_loss: 1.1585\n",
            "Epoch 6/10\n",
            "625/625 - 56s - 90ms/step - accuracy: 0.6193 - loss: 1.0913 - val_accuracy: 0.6173 - val_loss: 1.0807\n",
            "Epoch 7/10\n",
            "625/625 - 82s - 131ms/step - accuracy: 0.6388 - loss: 1.0434 - val_accuracy: 0.6187 - val_loss: 1.0810\n",
            "Epoch 8/10\n",
            "625/625 - 82s - 131ms/step - accuracy: 0.6523 - loss: 1.0015 - val_accuracy: 0.6125 - val_loss: 1.1013\n",
            "Epoch 9/10\n",
            "625/625 - 81s - 130ms/step - accuracy: 0.6643 - loss: 0.9653 - val_accuracy: 0.6465 - val_loss: 0.9967\n",
            "Epoch 10/10\n",
            "625/625 - 82s - 132ms/step - accuracy: 0.6791 - loss: 0.9315 - val_accuracy: 0.6586 - val_loss: 0.9784\n"
          ]
        },
        {
          "output_type": "execute_result",
          "data": {
            "text/plain": [
              "<keras.src.callbacks.history.History at 0x7a21555f38b0>"
            ]
          },
          "metadata": {},
          "execution_count": 33
        }
      ]
    },
    {
      "cell_type": "code",
      "source": [
        "model.evaluate(x_test,y_test)"
      ],
      "metadata": {
        "colab": {
          "base_uri": "https://localhost:8080/"
        },
        "id": "DN67Xk9FF33g",
        "outputId": "7d684488-08ce-4135-822a-bce6253aabc0"
      },
      "execution_count": null,
      "outputs": [
        {
          "output_type": "stream",
          "name": "stdout",
          "text": [
            "\u001b[1m313/313\u001b[0m \u001b[32m━━━━━━━━━━━━━━━━━━━━\u001b[0m\u001b[37m\u001b[0m \u001b[1m6s\u001b[0m 18ms/step - accuracy: 0.6590 - loss: 0.9813\n"
          ]
        },
        {
          "output_type": "execute_result",
          "data": {
            "text/plain": [
              "[0.9833590984344482, 0.6590999960899353]"
            ]
          },
          "metadata": {},
          "execution_count": 34
        }
      ]
    },
    {
      "cell_type": "code",
      "source": [
        "inputs=keras.Input(shape=(32,32,3))\n",
        "x=layers.Conv2D(32,3)(inputs)\n",
        "x=layers.BatchNormalization()(x)\n",
        "x=keras.activations.relu(x)\n",
        "x=layers.MaxPool2D()(x)\n",
        "x=layers.Conv2D(64,3)(x)\n",
        "x=layers.BatchNormalization()(x)\n",
        "x=keras.activations.relu(x)\n",
        "x=layers.MaxPool2D()(x)\n",
        "x=layers.Conv2D(128,3)(x)\n",
        "x=layers.BatchNormalization()(x)\n",
        "x=keras.activations.relu(x)\n",
        "x=layers.MaxPool2D()(x)\n",
        "x=layers.Flatten()(x)\n",
        "x=layers.Dense(64,activation='relu')(x)\n",
        "outputs=layers.Dense(10,activation='softmax')(x)\n",
        "model1=keras.Model(inputs=inputs,outputs=outputs)"
      ],
      "metadata": {
        "id": "Sd5O-KFyk3bc"
      },
      "execution_count": null,
      "outputs": []
    },
    {
      "cell_type": "code",
      "source": [
        "model1.compile(loss=keras.losses.SparseCategoricalCrossentropy(from_logits=False),\n",
        "              optimizer=keras.optimizers.Adam(learning_rate=3e-4),\n",
        "              metrics=['accuracy']\n",
        ")"
      ],
      "metadata": {
        "id": "uzdcVgbHve7g"
      },
      "execution_count": null,
      "outputs": []
    },
    {
      "cell_type": "code",
      "source": [
        "model1.fit(x_train,y_train,batch_size=64,epochs=10,validation_data=(x_val,y_val),verbose=2)"
      ],
      "metadata": {
        "colab": {
          "base_uri": "https://localhost:8080/"
        },
        "id": "sJUw_PFswZnX",
        "outputId": "d7b282f3-c4a0-4d34-db8f-ad0e1bd5f32a"
      },
      "execution_count": null,
      "outputs": [
        {
          "output_type": "stream",
          "name": "stdout",
          "text": [
            "Epoch 1/10\n",
            "625/625 - 79s - 126ms/step - accuracy: 0.4744 - loss: 1.4680 - val_accuracy: 0.4424 - val_loss: 1.6132\n",
            "Epoch 2/10\n",
            "625/625 - 80s - 128ms/step - accuracy: 0.6211 - loss: 1.0853 - val_accuracy: 0.6163 - val_loss: 1.0857\n",
            "Epoch 3/10\n",
            "625/625 - 76s - 121ms/step - accuracy: 0.6775 - loss: 0.9281 - val_accuracy: 0.6300 - val_loss: 1.0709\n",
            "Epoch 4/10\n",
            "625/625 - 80s - 129ms/step - accuracy: 0.7180 - loss: 0.8196 - val_accuracy: 0.6730 - val_loss: 0.9426\n",
            "Epoch 5/10\n",
            "625/625 - 76s - 122ms/step - accuracy: 0.7467 - loss: 0.7382 - val_accuracy: 0.6608 - val_loss: 0.9877\n",
            "Epoch 6/10\n",
            "625/625 - 82s - 130ms/step - accuracy: 0.7740 - loss: 0.6641 - val_accuracy: 0.6652 - val_loss: 0.9773\n",
            "Epoch 7/10\n",
            "625/625 - 81s - 129ms/step - accuracy: 0.7985 - loss: 0.5968 - val_accuracy: 0.6949 - val_loss: 0.8982\n",
            "Epoch 8/10\n",
            "625/625 - 82s - 131ms/step - accuracy: 0.8165 - loss: 0.5399 - val_accuracy: 0.6513 - val_loss: 1.1306\n",
            "Epoch 9/10\n",
            "625/625 - 75s - 120ms/step - accuracy: 0.8357 - loss: 0.4870 - val_accuracy: 0.6815 - val_loss: 0.9694\n",
            "Epoch 10/10\n",
            "625/625 - 81s - 130ms/step - accuracy: 0.8523 - loss: 0.4376 - val_accuracy: 0.6738 - val_loss: 1.0330\n"
          ]
        },
        {
          "output_type": "execute_result",
          "data": {
            "text/plain": [
              "<keras.src.callbacks.history.History at 0x7a214f8e90f0>"
            ]
          },
          "metadata": {},
          "execution_count": 37
        }
      ]
    },
    {
      "cell_type": "code",
      "source": [
        "model1.evaluate(x_test,y_test)"
      ],
      "metadata": {
        "colab": {
          "base_uri": "https://localhost:8080/"
        },
        "id": "FEgp86F9wf6G",
        "outputId": "6fd49cc6-4178-4829-f12e-22187adb5a69"
      },
      "execution_count": null,
      "outputs": [
        {
          "output_type": "stream",
          "name": "stdout",
          "text": [
            "\u001b[1m313/313\u001b[0m \u001b[32m━━━━━━━━━━━━━━━━━━━━\u001b[0m\u001b[37m\u001b[0m \u001b[1m6s\u001b[0m 21ms/step - accuracy: 0.6736 - loss: 1.0069\n"
          ]
        },
        {
          "output_type": "execute_result",
          "data": {
            "text/plain": [
              "[1.0320193767547607, 0.6722999811172485]"
            ]
          },
          "metadata": {},
          "execution_count": 38
        }
      ]
    },
    {
      "cell_type": "code",
      "source": [
        "inputs=keras.Input(shape=(32,32,3))\n",
        "x=layers.Conv2D(32,3,kernel_regularizer=regularizers.l2(0.01))(inputs)\n",
        "x=layers.BatchNormalization()(x)\n",
        "x=keras.activations.relu(x)\n",
        "x=layers.MaxPool2D()(x)\n",
        "x=layers.Conv2D(64,3,kernel_regularizer=regularizers.l2(0.01))(x)\n",
        "x=layers.BatchNormalization()(x)\n",
        "x=keras.activations.relu(x)\n",
        "x=layers.MaxPool2D()(x)\n",
        "x=layers.Conv2D(128,3,kernel_regularizer=regularizers.l2(0.01))(x)\n",
        "x=layers.BatchNormalization()(x)\n",
        "x=keras.activations.relu(x)\n",
        "x=layers.MaxPool2D()(x)\n",
        "x=layers.Flatten()(x)\n",
        "x=layers.Dense(64,activation='relu')(x)\n",
        "x=layers.Dropout(0.5)(x)\n",
        "outputs=layers.Dense(10,activation='softmax')(x)\n",
        "model2=keras.Model(inputs=inputs,outputs=outputs)"
      ],
      "metadata": {
        "id": "Ll0uxD2eND1W"
      },
      "execution_count": null,
      "outputs": []
    },
    {
      "cell_type": "code",
      "source": [
        "model2.compile(loss=keras.losses.SparseCategoricalCrossentropy(from_logits=False),\n",
        "              optimizer=keras.optimizers.Adam(learning_rate=3e-4),\n",
        "              metrics=['accuracy']\n",
        ")"
      ],
      "metadata": {
        "id": "EvUcwz-iZHUe"
      },
      "execution_count": null,
      "outputs": []
    },
    {
      "cell_type": "code",
      "source": [
        "model2.fit(x_train,y_train,batch_size=64,epochs=10,validation_data=(x_val,y_val),verbose=2)"
      ],
      "metadata": {
        "colab": {
          "base_uri": "https://localhost:8080/"
        },
        "id": "XP6LjknwZvwb",
        "outputId": "11c695d2-aa86-407b-b098-e9d4a12dc694"
      },
      "execution_count": null,
      "outputs": [
        {
          "output_type": "stream",
          "name": "stdout",
          "text": [
            "Epoch 1/10\n",
            "625/625 - 82s - 132ms/step - accuracy: 0.3458 - loss: 2.8878 - val_accuracy: 0.4170 - val_loss: 2.4630\n",
            "Epoch 2/10\n",
            "625/625 - 81s - 130ms/step - accuracy: 0.4846 - loss: 2.0885 - val_accuracy: 0.5175 - val_loss: 1.9179\n",
            "Epoch 3/10\n",
            "625/625 - 81s - 129ms/step - accuracy: 0.5495 - loss: 1.7137 - val_accuracy: 0.5868 - val_loss: 1.5399\n",
            "Epoch 4/10\n",
            "625/625 - 83s - 134ms/step - accuracy: 0.5928 - loss: 1.4953 - val_accuracy: 0.6152 - val_loss: 1.3783\n",
            "Epoch 5/10\n",
            "625/625 - 80s - 128ms/step - accuracy: 0.6210 - loss: 1.3664 - val_accuracy: 0.6637 - val_loss: 1.2322\n",
            "Epoch 6/10\n",
            "625/625 - 83s - 133ms/step - accuracy: 0.6426 - loss: 1.2689 - val_accuracy: 0.6485 - val_loss: 1.2355\n",
            "Epoch 7/10\n",
            "625/625 - 136s - 218ms/step - accuracy: 0.6679 - loss: 1.1926 - val_accuracy: 0.6128 - val_loss: 1.3793\n",
            "Epoch 8/10\n",
            "625/625 - 79s - 126ms/step - accuracy: 0.6772 - loss: 1.1406 - val_accuracy: 0.6671 - val_loss: 1.1608\n",
            "Epoch 9/10\n",
            "625/625 - 83s - 133ms/step - accuracy: 0.6932 - loss: 1.1001 - val_accuracy: 0.6769 - val_loss: 1.1071\n",
            "Epoch 10/10\n",
            "625/625 - 80s - 128ms/step - accuracy: 0.7049 - loss: 1.0596 - val_accuracy: 0.6582 - val_loss: 1.1976\n"
          ]
        },
        {
          "output_type": "execute_result",
          "data": {
            "text/plain": [
              "<keras.src.callbacks.history.History at 0x7a214253c1f0>"
            ]
          },
          "metadata": {},
          "execution_count": 45
        }
      ]
    },
    {
      "cell_type": "code",
      "source": [],
      "metadata": {
        "id": "phpzGmAbZzTi"
      },
      "execution_count": null,
      "outputs": []
    }
  ]
}