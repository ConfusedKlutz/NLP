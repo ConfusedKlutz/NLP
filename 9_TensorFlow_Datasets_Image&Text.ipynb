{
  "nbformat": 4,
  "nbformat_minor": 0,
  "metadata": {
    "colab": {
      "provenance": [],
      "gpuType": "T4"
    },
    "kernelspec": {
      "name": "python3",
      "display_name": "Python 3"
    },
    "language_info": {
      "name": "python"
    },
    "accelerator": "GPU",
    "widgets": {
      "application/vnd.jupyter.widget-state+json": {
        "2a7947871c954f7796467146df398134": {
          "model_module": "@jupyter-widgets/controls",
          "model_name": "HBoxModel",
          "model_module_version": "1.5.0",
          "state": {
            "_dom_classes": [],
            "_model_module": "@jupyter-widgets/controls",
            "_model_module_version": "1.5.0",
            "_model_name": "HBoxModel",
            "_view_count": null,
            "_view_module": "@jupyter-widgets/controls",
            "_view_module_version": "1.5.0",
            "_view_name": "HBoxView",
            "box_style": "",
            "children": [
              "IPY_MODEL_9b2ed98249164381b7887828f8778a19",
              "IPY_MODEL_6a9f7ddf7f1a4663894b22362f3a1c89",
              "IPY_MODEL_3e22dea42dfe4eaa998c5d1605cc0a70"
            ],
            "layout": "IPY_MODEL_a8005d70242e4ac5ae0dda0e30bb7f5e"
          }
        },
        "9b2ed98249164381b7887828f8778a19": {
          "model_module": "@jupyter-widgets/controls",
          "model_name": "HTMLModel",
          "model_module_version": "1.5.0",
          "state": {
            "_dom_classes": [],
            "_model_module": "@jupyter-widgets/controls",
            "_model_module_version": "1.5.0",
            "_model_name": "HTMLModel",
            "_view_count": null,
            "_view_module": "@jupyter-widgets/controls",
            "_view_module_version": "1.5.0",
            "_view_name": "HTMLView",
            "description": "",
            "description_tooltip": null,
            "layout": "IPY_MODEL_75fcac9ddabc4fbe8d2c462b0840df47",
            "placeholder": "​",
            "style": "IPY_MODEL_a58b3c3ff522471d9000e4695ac933be",
            "value": "Dl Completed...: 100%"
          }
        },
        "6a9f7ddf7f1a4663894b22362f3a1c89": {
          "model_module": "@jupyter-widgets/controls",
          "model_name": "FloatProgressModel",
          "model_module_version": "1.5.0",
          "state": {
            "_dom_classes": [],
            "_model_module": "@jupyter-widgets/controls",
            "_model_module_version": "1.5.0",
            "_model_name": "FloatProgressModel",
            "_view_count": null,
            "_view_module": "@jupyter-widgets/controls",
            "_view_module_version": "1.5.0",
            "_view_name": "ProgressView",
            "bar_style": "success",
            "description": "",
            "description_tooltip": null,
            "layout": "IPY_MODEL_61c0b653ca43444e89e70e5ee2e58aa8",
            "max": 5,
            "min": 0,
            "orientation": "horizontal",
            "style": "IPY_MODEL_a0d0527126c3435e8b85bdad6cc0df5f",
            "value": 5
          }
        },
        "3e22dea42dfe4eaa998c5d1605cc0a70": {
          "model_module": "@jupyter-widgets/controls",
          "model_name": "HTMLModel",
          "model_module_version": "1.5.0",
          "state": {
            "_dom_classes": [],
            "_model_module": "@jupyter-widgets/controls",
            "_model_module_version": "1.5.0",
            "_model_name": "HTMLModel",
            "_view_count": null,
            "_view_module": "@jupyter-widgets/controls",
            "_view_module_version": "1.5.0",
            "_view_name": "HTMLView",
            "description": "",
            "description_tooltip": null,
            "layout": "IPY_MODEL_1fb95a8dc2fa4251adbe3d1cf0df40d6",
            "placeholder": "​",
            "style": "IPY_MODEL_2ef2a485560344dc8a8a7690450d71fa",
            "value": " 5/5 [00:00&lt;00:00,  6.62 file/s]"
          }
        },
        "a8005d70242e4ac5ae0dda0e30bb7f5e": {
          "model_module": "@jupyter-widgets/base",
          "model_name": "LayoutModel",
          "model_module_version": "1.2.0",
          "state": {
            "_model_module": "@jupyter-widgets/base",
            "_model_module_version": "1.2.0",
            "_model_name": "LayoutModel",
            "_view_count": null,
            "_view_module": "@jupyter-widgets/base",
            "_view_module_version": "1.2.0",
            "_view_name": "LayoutView",
            "align_content": null,
            "align_items": null,
            "align_self": null,
            "border": null,
            "bottom": null,
            "display": null,
            "flex": null,
            "flex_flow": null,
            "grid_area": null,
            "grid_auto_columns": null,
            "grid_auto_flow": null,
            "grid_auto_rows": null,
            "grid_column": null,
            "grid_gap": null,
            "grid_row": null,
            "grid_template_areas": null,
            "grid_template_columns": null,
            "grid_template_rows": null,
            "height": null,
            "justify_content": null,
            "justify_items": null,
            "left": null,
            "margin": null,
            "max_height": null,
            "max_width": null,
            "min_height": null,
            "min_width": null,
            "object_fit": null,
            "object_position": null,
            "order": null,
            "overflow": null,
            "overflow_x": null,
            "overflow_y": null,
            "padding": null,
            "right": null,
            "top": null,
            "visibility": null,
            "width": null
          }
        },
        "75fcac9ddabc4fbe8d2c462b0840df47": {
          "model_module": "@jupyter-widgets/base",
          "model_name": "LayoutModel",
          "model_module_version": "1.2.0",
          "state": {
            "_model_module": "@jupyter-widgets/base",
            "_model_module_version": "1.2.0",
            "_model_name": "LayoutModel",
            "_view_count": null,
            "_view_module": "@jupyter-widgets/base",
            "_view_module_version": "1.2.0",
            "_view_name": "LayoutView",
            "align_content": null,
            "align_items": null,
            "align_self": null,
            "border": null,
            "bottom": null,
            "display": null,
            "flex": null,
            "flex_flow": null,
            "grid_area": null,
            "grid_auto_columns": null,
            "grid_auto_flow": null,
            "grid_auto_rows": null,
            "grid_column": null,
            "grid_gap": null,
            "grid_row": null,
            "grid_template_areas": null,
            "grid_template_columns": null,
            "grid_template_rows": null,
            "height": null,
            "justify_content": null,
            "justify_items": null,
            "left": null,
            "margin": null,
            "max_height": null,
            "max_width": null,
            "min_height": null,
            "min_width": null,
            "object_fit": null,
            "object_position": null,
            "order": null,
            "overflow": null,
            "overflow_x": null,
            "overflow_y": null,
            "padding": null,
            "right": null,
            "top": null,
            "visibility": null,
            "width": null
          }
        },
        "a58b3c3ff522471d9000e4695ac933be": {
          "model_module": "@jupyter-widgets/controls",
          "model_name": "DescriptionStyleModel",
          "model_module_version": "1.5.0",
          "state": {
            "_model_module": "@jupyter-widgets/controls",
            "_model_module_version": "1.5.0",
            "_model_name": "DescriptionStyleModel",
            "_view_count": null,
            "_view_module": "@jupyter-widgets/base",
            "_view_module_version": "1.2.0",
            "_view_name": "StyleView",
            "description_width": ""
          }
        },
        "61c0b653ca43444e89e70e5ee2e58aa8": {
          "model_module": "@jupyter-widgets/base",
          "model_name": "LayoutModel",
          "model_module_version": "1.2.0",
          "state": {
            "_model_module": "@jupyter-widgets/base",
            "_model_module_version": "1.2.0",
            "_model_name": "LayoutModel",
            "_view_count": null,
            "_view_module": "@jupyter-widgets/base",
            "_view_module_version": "1.2.0",
            "_view_name": "LayoutView",
            "align_content": null,
            "align_items": null,
            "align_self": null,
            "border": null,
            "bottom": null,
            "display": null,
            "flex": null,
            "flex_flow": null,
            "grid_area": null,
            "grid_auto_columns": null,
            "grid_auto_flow": null,
            "grid_auto_rows": null,
            "grid_column": null,
            "grid_gap": null,
            "grid_row": null,
            "grid_template_areas": null,
            "grid_template_columns": null,
            "grid_template_rows": null,
            "height": null,
            "justify_content": null,
            "justify_items": null,
            "left": null,
            "margin": null,
            "max_height": null,
            "max_width": null,
            "min_height": null,
            "min_width": null,
            "object_fit": null,
            "object_position": null,
            "order": null,
            "overflow": null,
            "overflow_x": null,
            "overflow_y": null,
            "padding": null,
            "right": null,
            "top": null,
            "visibility": null,
            "width": null
          }
        },
        "a0d0527126c3435e8b85bdad6cc0df5f": {
          "model_module": "@jupyter-widgets/controls",
          "model_name": "ProgressStyleModel",
          "model_module_version": "1.5.0",
          "state": {
            "_model_module": "@jupyter-widgets/controls",
            "_model_module_version": "1.5.0",
            "_model_name": "ProgressStyleModel",
            "_view_count": null,
            "_view_module": "@jupyter-widgets/base",
            "_view_module_version": "1.2.0",
            "_view_name": "StyleView",
            "bar_color": null,
            "description_width": ""
          }
        },
        "1fb95a8dc2fa4251adbe3d1cf0df40d6": {
          "model_module": "@jupyter-widgets/base",
          "model_name": "LayoutModel",
          "model_module_version": "1.2.0",
          "state": {
            "_model_module": "@jupyter-widgets/base",
            "_model_module_version": "1.2.0",
            "_model_name": "LayoutModel",
            "_view_count": null,
            "_view_module": "@jupyter-widgets/base",
            "_view_module_version": "1.2.0",
            "_view_name": "LayoutView",
            "align_content": null,
            "align_items": null,
            "align_self": null,
            "border": null,
            "bottom": null,
            "display": null,
            "flex": null,
            "flex_flow": null,
            "grid_area": null,
            "grid_auto_columns": null,
            "grid_auto_flow": null,
            "grid_auto_rows": null,
            "grid_column": null,
            "grid_gap": null,
            "grid_row": null,
            "grid_template_areas": null,
            "grid_template_columns": null,
            "grid_template_rows": null,
            "height": null,
            "justify_content": null,
            "justify_items": null,
            "left": null,
            "margin": null,
            "max_height": null,
            "max_width": null,
            "min_height": null,
            "min_width": null,
            "object_fit": null,
            "object_position": null,
            "order": null,
            "overflow": null,
            "overflow_x": null,
            "overflow_y": null,
            "padding": null,
            "right": null,
            "top": null,
            "visibility": null,
            "width": null
          }
        },
        "2ef2a485560344dc8a8a7690450d71fa": {
          "model_module": "@jupyter-widgets/controls",
          "model_name": "DescriptionStyleModel",
          "model_module_version": "1.5.0",
          "state": {
            "_model_module": "@jupyter-widgets/controls",
            "_model_module_version": "1.5.0",
            "_model_name": "DescriptionStyleModel",
            "_view_count": null,
            "_view_module": "@jupyter-widgets/base",
            "_view_module_version": "1.2.0",
            "_view_name": "StyleView",
            "description_width": ""
          }
        }
      }
    }
  },
  "cells": [
    {
      "cell_type": "code",
      "execution_count": 1,
      "metadata": {
        "id": "7zruDdhRm9hR"
      },
      "outputs": [],
      "source": [
        "import tensorflow as tf\n",
        "from tensorflow import keras\n",
        "import tensorflow_datasets as tfds\n",
        "from tensorflow.keras import layers"
      ]
    },
    {
      "cell_type": "code",
      "source": [
        "(ds_train,ds_test),ds_info=tfds.load(\n",
        "    'mnist',\n",
        "    split=['train','test'],\n",
        "    shuffle_files=True,\n",
        "    as_supervised=True,\n",
        "    with_info=True\n",
        ")"
      ],
      "metadata": {
        "colab": {
          "base_uri": "https://localhost:8080/",
          "height": 105,
          "referenced_widgets": [
            "2a7947871c954f7796467146df398134",
            "9b2ed98249164381b7887828f8778a19",
            "6a9f7ddf7f1a4663894b22362f3a1c89",
            "3e22dea42dfe4eaa998c5d1605cc0a70",
            "a8005d70242e4ac5ae0dda0e30bb7f5e",
            "75fcac9ddabc4fbe8d2c462b0840df47",
            "a58b3c3ff522471d9000e4695ac933be",
            "61c0b653ca43444e89e70e5ee2e58aa8",
            "a0d0527126c3435e8b85bdad6cc0df5f",
            "1fb95a8dc2fa4251adbe3d1cf0df40d6",
            "2ef2a485560344dc8a8a7690450d71fa"
          ]
        },
        "id": "6D94bMQ7nWIa",
        "outputId": "b9ef293d-214f-46a9-c85c-0ff06ce3e722"
      },
      "execution_count": 2,
      "outputs": [
        {
          "output_type": "stream",
          "name": "stdout",
          "text": [
            "Downloading and preparing dataset 11.06 MiB (download: 11.06 MiB, generated: 21.00 MiB, total: 32.06 MiB) to /root/tensorflow_datasets/mnist/3.0.1...\n"
          ]
        },
        {
          "output_type": "display_data",
          "data": {
            "text/plain": [
              "Dl Completed...:   0%|          | 0/5 [00:00<?, ? file/s]"
            ],
            "application/vnd.jupyter.widget-view+json": {
              "version_major": 2,
              "version_minor": 0,
              "model_id": "2a7947871c954f7796467146df398134"
            }
          },
          "metadata": {}
        },
        {
          "output_type": "stream",
          "name": "stdout",
          "text": [
            "Dataset mnist downloaded and prepared to /root/tensorflow_datasets/mnist/3.0.1. Subsequent calls will reuse this data.\n"
          ]
        }
      ]
    },
    {
      "cell_type": "code",
      "source": [
        "ds_info"
      ],
      "metadata": {
        "colab": {
          "base_uri": "https://localhost:8080/"
        },
        "id": "YXs9iDKmpLzZ",
        "outputId": "50909c4e-d241-464c-9c39-246609f35f41"
      },
      "execution_count": 3,
      "outputs": [
        {
          "output_type": "execute_result",
          "data": {
            "text/plain": [
              "tfds.core.DatasetInfo(\n",
              "    name='mnist',\n",
              "    full_name='mnist/3.0.1',\n",
              "    description=\"\"\"\n",
              "    The MNIST database of handwritten digits.\n",
              "    \"\"\",\n",
              "    homepage='http://yann.lecun.com/exdb/mnist/',\n",
              "    data_dir='/root/tensorflow_datasets/mnist/incomplete.NBQ1Q5_3.0.1/',\n",
              "    file_format=tfrecord,\n",
              "    download_size=11.06 MiB,\n",
              "    dataset_size=21.00 MiB,\n",
              "    features=FeaturesDict({\n",
              "        'image': Image(shape=(28, 28, 1), dtype=uint8),\n",
              "        'label': ClassLabel(shape=(), dtype=int64, num_classes=10),\n",
              "    }),\n",
              "    supervised_keys=('image', 'label'),\n",
              "    disable_shuffling=False,\n",
              "    splits={\n",
              "        'test': <SplitInfo num_examples=10000, num_shards=1>,\n",
              "        'train': <SplitInfo num_examples=60000, num_shards=1>,\n",
              "    },\n",
              "    citation=\"\"\"@article{lecun2010mnist,\n",
              "      title={MNIST handwritten digit database},\n",
              "      author={LeCun, Yann and Cortes, Corinna and Burges, CJ},\n",
              "      journal={ATT Labs [Online]. Available: http://yann.lecun.com/exdb/mnist},\n",
              "      volume={2},\n",
              "      year={2010}\n",
              "    }\"\"\",\n",
              ")"
            ]
          },
          "metadata": {},
          "execution_count": 3
        }
      ]
    },
    {
      "cell_type": "code",
      "source": [
        "fig=tfds.show_examples(ds_train,ds_info,rows=4,cols=4)"
      ],
      "metadata": {
        "colab": {
          "base_uri": "https://localhost:8080/",
          "height": 933
        },
        "id": "x8qktPwjpOKo",
        "outputId": "2314a0e8-76db-454a-a37b-dd309cc18b6e"
      },
      "execution_count": 4,
      "outputs": [
        {
          "output_type": "display_data",
          "data": {
            "text/plain": [
              "<Figure size 1200x1200 with 16 Axes>"
            ],
            "image/png": "[encoded data removed]"
          },
          "metadata": {}
        }
      ]
    },
    {
      "cell_type": "code",
      "source": [
        "def normalize(image,label):\n",
        "  return tf.cast(image,tf.float32)/255.0, label"
      ],
      "metadata": {
        "id": "Yi3oJNfprYZo"
      },
      "execution_count": 5,
      "outputs": []
    },
    {
      "cell_type": "code",
      "source": [
        "AUTOTUNE=tf.data.experimental.AUTOTUNE\n",
        "BATCH_SIZE=64\n",
        "ds_train=ds_train.map(normalize,num_parallel_calls=AUTOTUNE)\n",
        "ds_train=ds_train.batch(BATCH_SIZE)\n",
        "ds_train=ds_train.prefetch(AUTOTUNE)\n",
        "\n",
        "ds_test=ds_test.map(normalize,num_parallel_calls=AUTOTUNE)\n",
        "ds_test=ds_test.batch(BATCH_SIZE)\n",
        "ds_test=ds_test.prefetch(AUTOTUNE)"
      ],
      "metadata": {
        "id": "ILQUXI67ts5N"
      },
      "execution_count": 6,
      "outputs": []
    },
    {
      "cell_type": "code",
      "source": [
        "model=keras.Sequential([\n",
        "    keras.Input(shape=(28,28,1)),\n",
        "    layers.Conv2D(32,3,activation='relu'),\n",
        "    layers.MaxPooling2D(2),\n",
        "    layers.Flatten(),\n",
        "    layers.Dense(10,activation='softmax')\n",
        "])"
      ],
      "metadata": {
        "id": "mr0A30YduYZp"
      },
      "execution_count": 7,
      "outputs": []
    },
    {
      "cell_type": "code",
      "source": [
        "model.compile(optimizer=keras.optimizers.Adam(3e-4),\n",
        "              loss=keras.losses.SparseCategoricalCrossentropy(),\n",
        "              metrics=['accuracy'])"
      ],
      "metadata": {
        "id": "_8TOBRvIu583"
      },
      "execution_count": 8,
      "outputs": []
    },
    {
      "cell_type": "code",
      "source": [
        "model.fit(ds_train,epochs=10,verbose=2,validation_data=ds_test)"
      ],
      "metadata": {
        "colab": {
          "base_uri": "https://localhost:8080/"
        },
        "id": "lSrLfbcMvJX9",
        "outputId": "dd516c4c-d4bd-430a-88e6-3b28a9886fa7"
      },
      "execution_count": 9,
      "outputs": [
        {
          "output_type": "stream",
          "name": "stdout",
          "text": [
            "Epoch 1/10\n",
            "938/938 - 11s - 12ms/step - accuracy: 0.8766 - loss: 0.4671 - val_accuracy: 0.9255 - val_loss: 0.2604\n",
            "Epoch 2/10\n",
            "938/938 - 2s - 2ms/step - accuracy: 0.9314 - loss: 0.2396 - val_accuracy: 0.9431 - val_loss: 0.1966\n",
            "Epoch 3/10\n",
            "938/938 - 3s - 3ms/step - accuracy: 0.9477 - loss: 0.1846 - val_accuracy: 0.9562 - val_loss: 0.1554\n",
            "Epoch 4/10\n",
            "938/938 - 2s - 2ms/step - accuracy: 0.9587 - loss: 0.1483 - val_accuracy: 0.9637 - val_loss: 0.1289\n",
            "Epoch 5/10\n",
            "938/938 - 4s - 4ms/step - accuracy: 0.9656 - loss: 0.1236 - val_accuracy: 0.9680 - val_loss: 0.1109\n",
            "Epoch 6/10\n",
            "938/938 - 4s - 4ms/step - accuracy: 0.9710 - loss: 0.1055 - val_accuracy: 0.9711 - val_loss: 0.0977\n",
            "Epoch 7/10\n",
            "938/938 - 2s - 3ms/step - accuracy: 0.9749 - loss: 0.0918 - val_accuracy: 0.9738 - val_loss: 0.0878\n",
            "Epoch 8/10\n",
            "938/938 - 3s - 3ms/step - accuracy: 0.9777 - loss: 0.0812 - val_accuracy: 0.9755 - val_loss: 0.0802\n",
            "Epoch 9/10\n",
            "938/938 - 4s - 4ms/step - accuracy: 0.9798 - loss: 0.0729 - val_accuracy: 0.9768 - val_loss: 0.0745\n",
            "Epoch 10/10\n",
            "938/938 - 2s - 3ms/step - accuracy: 0.9819 - loss: 0.0662 - val_accuracy: 0.9780 - val_loss: 0.0702\n"
          ]
        },
        {
          "output_type": "execute_result",
          "data": {
            "text/plain": [
              "<keras.src.callbacks.history.History at 0x78a628192bd0>"
            ]
          },
          "metadata": {},
          "execution_count": 9
        }
      ]
    },
    {
      "cell_type": "code",
      "source": [
        "(ds_train,ds_test),ds_info=tfds.load(\n",
        "    'imdb_reviews',\n",
        "    split=['train','test'],\n",
        "    shuffle_files=True,\n",
        "    as_supervised=True,\n",
        "    with_info=True,\n",
        ")"
      ],
      "metadata": {
        "id": "PdlBIVbNvSmD"
      },
      "execution_count": 57,
      "outputs": []
    },
    {
      "cell_type": "code",
      "source": [
        "ds_info"
      ],
      "metadata": {
        "colab": {
          "base_uri": "https://localhost:8080/"
        },
        "id": "9YOmxLe07iGD",
        "outputId": "d17130ed-47ee-4754-aa18-e4c605f6135e"
      },
      "execution_count": 58,
      "outputs": [
        {
          "output_type": "execute_result",
          "data": {
            "text/plain": [
              "tfds.core.DatasetInfo(\n",
              "    name='imdb_reviews',\n",
              "    full_name='imdb_reviews/plain_text/1.0.0',\n",
              "    description=\"\"\"\n",
              "    Large Movie Review Dataset. This is a dataset for binary sentiment\n",
              "    classification containing substantially more data than previous benchmark\n",
              "    datasets. We provide a set of 25,000 highly polar movie reviews for training,\n",
              "    and 25,000 for testing. There is additional unlabeled data for use as well.\n",
              "    \"\"\",\n",
              "    config_description=\"\"\"\n",
              "    Plain text\n",
              "    \"\"\",\n",
              "    homepage='http://ai.stanford.edu/~amaas/data/sentiment/',\n",
              "    data_dir='/root/tensorflow_datasets/imdb_reviews/plain_text/1.0.0',\n",
              "    file_format=tfrecord,\n",
              "    download_size=80.23 MiB,\n",
              "    dataset_size=129.83 MiB,\n",
              "    features=FeaturesDict({\n",
              "        'label': ClassLabel(shape=(), dtype=int64, num_classes=2),\n",
              "        'text': Text(shape=(), dtype=string),\n",
              "    }),\n",
              "    supervised_keys=('text', 'label'),\n",
              "    disable_shuffling=False,\n",
              "    splits={\n",
              "        'test': <SplitInfo num_examples=25000, num_shards=1>,\n",
              "        'train': <SplitInfo num_examples=25000, num_shards=1>,\n",
              "        'unsupervised': <SplitInfo num_examples=50000, num_shards=1>,\n",
              "    },\n",
              "    citation=\"\"\"@InProceedings{maas-EtAl:2011:ACL-HLT2011,\n",
              "      author    = {Maas, Andrew L.  and  Daly, Raymond E.  and  Pham, Peter T.  and  Huang, Dan  and  Ng, Andrew Y.  and  Potts, Christopher},\n",
              "      title     = {Learning Word Vectors for Sentiment Analysis},\n",
              "      booktitle = {Proceedings of the 49th Annual Meeting of the Association for Computational Linguistics: Human Language Technologies},\n",
              "      month     = {June},\n",
              "      year      = {2011},\n",
              "      address   = {Portland, Oregon, USA},\n",
              "      publisher = {Association for Computational Linguistics},\n",
              "      pages     = {142--150},\n",
              "      url       = {http://www.aclweb.org/anthology/P11-1015}\n",
              "    }\"\"\",\n",
              ")"
            ]
          },
          "metadata": {},
          "execution_count": 58
        }
      ]
    },
    {
      "cell_type": "code",
      "source": [
        "tokenizer=tfds.deprecated.text.Tokenizer()"
      ],
      "metadata": {
        "id": "NyA1sHSz7mgv"
      },
      "execution_count": 59,
      "outputs": []
    },
    {
      "cell_type": "code",
      "source": [
        "def build_vocabulary():\n",
        "  vocabulary=set()\n",
        "  for text,_ in ds_train:\n",
        "    vocabulary.update(tokenizer.tokenize(text.numpy().lower()))\n",
        "  return vocabulary\n"
      ],
      "metadata": {
        "id": "aG3oNXwF78oa"
      },
      "execution_count": 61,
      "outputs": []
    },
    {
      "cell_type": "code",
      "source": [
        "vocabulary=build_vocabulary()"
      ],
      "metadata": {
        "id": "Dxpju1fO89c8"
      },
      "execution_count": 62,
      "outputs": []
    },
    {
      "cell_type": "code",
      "source": [
        "len(vocabulary)"
      ],
      "metadata": {
        "colab": {
          "base_uri": "https://localhost:8080/"
        },
        "id": "8g6N31uG9BEB",
        "outputId": "c59b4b2b-4bb2-4ed7-b6c9-c7ae7a1ed7df"
      },
      "execution_count": 63,
      "outputs": [
        {
          "output_type": "execute_result",
          "data": {
            "text/plain": [
              "74893"
            ]
          },
          "metadata": {},
          "execution_count": 63
        }
      ]
    },
    {
      "cell_type": "code",
      "source": [
        "encoder=tfds.deprecated.text.TokenTextEncoder(vocabulary,oov_token='<UNK>',tokenizer=tokenizer,lowercase=True)"
      ],
      "metadata": {
        "id": "oZZA4eyC9PoM"
      },
      "execution_count": 64,
      "outputs": []
    },
    {
      "cell_type": "code",
      "source": [
        "def my_encodings(text_tensor,label):\n",
        "  return encoder.encode(text_tensor.numpy()),label"
      ],
      "metadata": {
        "id": "IpzHisQr-SqG"
      },
      "execution_count": 65,
      "outputs": []
    },
    {
      "cell_type": "code",
      "source": [
        "def encoding_map(text,label):\n",
        "  encoded_text,label=tf.py_function(my_encodings,inp=[text,label],Tout=(tf.int64,tf.int64))\n",
        "  encoded_text.set_shape([None])\n",
        "  label.set_shape([])\n",
        "  return encoded_text,label"
      ],
      "metadata": {
        "id": "5gCzgPUy-jqg"
      },
      "execution_count": 66,
      "outputs": []
    },
    {
      "cell_type": "code",
      "source": [
        "AUTOTUNE=tf.data.experimental.AUTOTUNE\n",
        "BATCH_SIZE=32\n",
        "ds_train=ds_train.map(encoding_map,num_parallel_calls=AUTOTUNE)\n",
        "ds_train=ds_train.padded_batch(BATCH_SIZE)\n",
        "ds_train=ds_train.prefetch(AUTOTUNE)\n",
        "\n",
        "ds_test=ds_test.map(encoding_map)\n",
        "ds_test=ds_test.padded_batch(BATCH_SIZE)\n",
        "ds_test=ds_test.prefetch(AUTOTUNE)"
      ],
      "metadata": {
        "id": "H9J6wLg1_EgY"
      },
      "execution_count": 67,
      "outputs": []
    },
    {
      "cell_type": "code",
      "source": [
        "model=keras.Sequential([\n",
        "    layers.Masking(mask_value=0),\n",
        "    layers.Embedding(input_dim=len(vocabulary)+2,output_dim=300),\n",
        "    layers.GlobalAveragePooling1D(),\n",
        "    layers.Dense(64,activation='relu'),\n",
        "    layers.Dense(1,activation='sigmoid')\n",
        "\n",
        "]\n",
        ")"
      ],
      "metadata": {
        "id": "35qqNl6C_eBr"
      },
      "execution_count": 68,
      "outputs": []
    },
    {
      "cell_type": "code",
      "source": [
        "model.compile(optimizer=keras.optimizers.Adam(3e-4),\n",
        "              loss=keras.losses.BinaryCrossentropy(),\n",
        "              metrics=['accuracy'])"
      ],
      "metadata": {
        "id": "aSArBE2xBADe"
      },
      "execution_count": 69,
      "outputs": []
    },
    {
      "cell_type": "code",
      "source": [
        "model.fit(ds_train,epochs=10,verbose=2,validation_data=ds_test)"
      ],
      "metadata": {
        "colab": {
          "base_uri": "https://localhost:8080/"
        },
        "id": "5WtjX961BKTx",
        "outputId": "31b2d92d-af3b-4626-f157-ec071165339d"
      },
      "execution_count": 71,
      "outputs": [
        {
          "output_type": "stream",
          "name": "stdout",
          "text": [
            "Epoch 1/10\n",
            "782/782 - 46s - 59ms/step - accuracy: 0.8862 - loss: 0.2769 - val_accuracy: 0.8508 - val_loss: 0.3387\n",
            "Epoch 2/10\n",
            "782/782 - 46s - 59ms/step - accuracy: 0.8946 - loss: 0.2594 - val_accuracy: 0.8550 - val_loss: 0.3335\n",
            "Epoch 3/10\n",
            "782/782 - 46s - 59ms/step - accuracy: 0.9027 - loss: 0.2440 - val_accuracy: 0.8552 - val_loss: 0.3351\n",
            "Epoch 4/10\n",
            "782/782 - 46s - 59ms/step - accuracy: 0.9127 - loss: 0.2229 - val_accuracy: 0.8359 - val_loss: 0.3769\n",
            "Epoch 5/10\n",
            "782/782 - 46s - 58ms/step - accuracy: 0.9212 - loss: 0.2064 - val_accuracy: 0.8216 - val_loss: 0.4211\n",
            "Epoch 6/10\n",
            "782/782 - 46s - 59ms/step - accuracy: 0.9262 - loss: 0.1974 - val_accuracy: 0.8052 - val_loss: 0.4827\n",
            "Epoch 7/10\n",
            "782/782 - 47s - 60ms/step - accuracy: 0.9302 - loss: 0.1892 - val_accuracy: 0.7845 - val_loss: 0.5702\n",
            "Epoch 8/10\n",
            "782/782 - 45s - 57ms/step - accuracy: 0.9308 - loss: 0.1840 - val_accuracy: 0.8159 - val_loss: 0.4575\n",
            "Epoch 9/10\n",
            "782/782 - 46s - 58ms/step - accuracy: 0.9256 - loss: 0.1912 - val_accuracy: 0.8520 - val_loss: 0.3747\n",
            "Epoch 10/10\n",
            "782/782 - 45s - 57ms/step - accuracy: 0.9315 - loss: 0.1807 - val_accuracy: 0.8392 - val_loss: 0.4217\n"
          ]
        },
        {
          "output_type": "execute_result",
          "data": {
            "text/plain": [
              "<keras.src.callbacks.history.History at 0x7d9012bfb890>"
            ]
          },
          "metadata": {},
          "execution_count": 71
        }
      ]
    },
    {
      "cell_type": "code",
      "source": [],
      "metadata": {
        "id": "_kWHyREuBQzG"
      },
      "execution_count": null,
      "outputs": []
    }
  ]
}